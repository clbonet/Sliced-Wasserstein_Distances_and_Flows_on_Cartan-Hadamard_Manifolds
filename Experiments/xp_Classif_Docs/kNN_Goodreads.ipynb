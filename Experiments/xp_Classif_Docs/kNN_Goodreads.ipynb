{
 "cells": [
  {
   "cell_type": "code",
   "execution_count": 1,
   "id": "ca02fec2",
   "metadata": {},
   "outputs": [],
   "source": [
    "import numpy as np\n",
    "\n",
    "from utils_knn import get_acc_knn\n",
    "from load_datasets import get_goodreads"
   ]
  },
  {
   "cell_type": "markdown",
   "id": "bc410bc1",
   "metadata": {},
   "source": [
    "# Like"
   ]
  },
  {
   "cell_type": "code",
   "execution_count": 2,
   "id": "d45da255",
   "metadata": {},
   "outputs": [],
   "source": [
    "X, y, w, idx_train, idx_test, idx_docs, n_words = get_goodreads(task=\"likability\")\n",
    "\n",
    "str_dataset = \"_goodreads_like\"\n",
    "path = \"./results\"+str_dataset+\"/\"\n",
    "\n",
    "str_d = \"_d30\""
   ]
  },
  {
   "cell_type": "markdown",
   "id": "25ce7638",
   "metadata": {},
   "source": [
    "### WMD"
   ]
  },
  {
   "cell_type": "code",
   "execution_count": 3,
   "id": "1a55837a",
   "metadata": {
    "scrolled": true
   },
   "outputs": [
    {
     "data": {
      "text/plain": [
       "0.7099601593625497"
      ]
     },
     "execution_count": 3,
     "metadata": {},
     "output_type": "execute_result"
    }
   ],
   "source": [
    "str_dataset = \"_goodreads_genre\"\n",
    "path = \"./results\"+str_dataset+\"/\"\n",
    "\n",
    "dist_mat = np.loadtxt(path + \"d_wmd_w2_goodreads_genre_k0\")\n",
    "\n",
    "L_acc = get_acc_knn(dist_mat, y, idx_train, idx_test)\n",
    "np.mean(L_acc)"
   ]
  },
  {
   "cell_type": "code",
   "execution_count": 4,
   "id": "3c83208c",
   "metadata": {},
   "outputs": [
    {
     "data": {
      "text/plain": [
       "[0.7370517928286853,\n",
       " 0.7171314741035857,\n",
       " 0.6972111553784861,\n",
       " 0.7131474103585658,\n",
       " 0.6852589641434262]"
      ]
     },
     "execution_count": 4,
     "metadata": {},
     "output_type": "execute_result"
    }
   ],
   "source": [
    "L_acc"
   ]
  },
  {
   "cell_type": "markdown",
   "id": "24af1a05",
   "metadata": {},
   "source": [
    "### WMD + SW"
   ]
  },
  {
   "cell_type": "code",
   "execution_count": 5,
   "id": "7845047a",
   "metadata": {},
   "outputs": [],
   "source": [
    "str_loss = \"_sw\"\n",
    "str_projs = \"_projs500\"\n",
    "\n",
    "str_dataset = \"_goodreads_genre\"\n",
    "path = \"./results\"+str_dataset+\"/\""
   ]
  },
  {
   "cell_type": "code",
   "execution_count": 6,
   "id": "a9878f91",
   "metadata": {
    "scrolled": true
   },
   "outputs": [
    {
     "name": "stdout",
     "output_type": "stream",
     "text": [
      "0.6589641434262948 0.0017213122704934506\n"
     ]
    }
   ],
   "source": [
    "L_sw = []\n",
    "\n",
    "for k in range(3):\n",
    "    d_sw = np.loadtxt(path + \"d_wmd\"+str_loss+str_dataset+str_projs+\"_k\"+str(k))\n",
    "    L_acc = get_acc_knn(d_sw, y, idx_train, idx_test)\n",
    "    L_sw.append(L_acc)\n",
    "\n",
    "L_acc = np.array(L_sw)\n",
    "means = np.mean(L_acc, axis=-1)\n",
    "print(np.mean(means), np.std(means))"
   ]
  },
  {
   "cell_type": "code",
   "execution_count": 7,
   "id": "161b19e4",
   "metadata": {},
   "outputs": [
    {
     "data": {
      "text/plain": [
       "array([[0.64940239, 0.66932271, 0.66135458, 0.64143426, 0.66932271],\n",
       "       [0.66932271, 0.6374502 , 0.66932271, 0.67729084, 0.65338645],\n",
       "       [0.68924303, 0.64143426, 0.67729084, 0.66533865, 0.61354582]])"
      ]
     },
     "execution_count": 7,
     "metadata": {},
     "output_type": "execute_result"
    }
   ],
   "source": [
    "L_acc"
   ]
  },
  {
   "cell_type": "code",
   "execution_count": 8,
   "id": "a2105082",
   "metadata": {},
   "outputs": [
    {
     "data": {
      "text/plain": [
       "array([0.66932271, 0.64940239, 0.66932271, 0.66135458, 0.64541833])"
      ]
     },
     "execution_count": 8,
     "metadata": {},
     "output_type": "execute_result"
    }
   ],
   "source": [
    "means = np.mean(L_acc, axis=0)\n",
    "means"
   ]
  },
  {
   "cell_type": "code",
   "execution_count": null,
   "id": "867cad1d",
   "metadata": {},
   "outputs": [],
   "source": []
  },
  {
   "cell_type": "markdown",
   "id": "31cd83ce",
   "metadata": {},
   "source": [
    "### WCD + WMD"
   ]
  },
  {
   "cell_type": "code",
   "execution_count": 9,
   "id": "b26a72c0",
   "metadata": {},
   "outputs": [],
   "source": [
    "str_dataset = \"_goodreads_like\"\n",
    "path = \"./results\"+str_dataset+\"/\"\n",
    "str_loss = \"_w2\""
   ]
  },
  {
   "cell_type": "code",
   "execution_count": 10,
   "id": "755ca40b",
   "metadata": {},
   "outputs": [
    {
     "name": "stdout",
     "output_type": "stream",
     "text": [
      "0.6836653386454182 0.024115929801468643\n"
     ]
    }
   ],
   "source": [
    "L_acc = []\n",
    "\n",
    "for i in range(len(idx_train)):\n",
    "    dist_mat = np.loadtxt(path + \"d_swmd_wcd\"+str_d+str_loss+str_dataset+\"_i\"+str(i)+\"_k0\")\n",
    "    L_acc += get_acc_knn(dist_mat, y, [idx_train[i]], [idx_test[i]])\n",
    "    \n",
    "print(np.mean(L_acc), np.std(L_acc))"
   ]
  },
  {
   "cell_type": "code",
   "execution_count": 11,
   "id": "f97e8593",
   "metadata": {},
   "outputs": [
    {
     "data": {
      "text/plain": [
       "[0.6733067729083665,\n",
       " 0.7091633466135459,\n",
       " 0.6972111553784861,\n",
       " 0.6414342629482072,\n",
       " 0.6972111553784861]"
      ]
     },
     "execution_count": 11,
     "metadata": {},
     "output_type": "execute_result"
    }
   ],
   "source": [
    "L_acc"
   ]
  },
  {
   "cell_type": "code",
   "execution_count": null,
   "id": "ce60b14e",
   "metadata": {},
   "outputs": [],
   "source": []
  },
  {
   "cell_type": "markdown",
   "id": "cf80d9b9",
   "metadata": {},
   "source": [
    "### WCD + WMD + SW"
   ]
  },
  {
   "cell_type": "code",
   "execution_count": 12,
   "id": "d5f097f3",
   "metadata": {},
   "outputs": [],
   "source": [
    "str_loss = \"_sw\"\n",
    "str_projs = \"_projs500\""
   ]
  },
  {
   "cell_type": "code",
   "execution_count": 13,
   "id": "af0e5d57",
   "metadata": {},
   "outputs": [
    {
     "name": "stdout",
     "output_type": "stream",
     "text": [
      "0.6754316069057106 0.001354321251950275\n"
     ]
    }
   ],
   "source": [
    "L_acc = np.zeros((3, len(idx_train)))\n",
    "\n",
    "for k in range(3):\n",
    "    for i in range(len(idx_train)):\n",
    "        dist_mat = np.loadtxt(path + \"d_swmd_wcd\"+str_d+str_loss+str_dataset+\n",
    "                              str_projs+\"_i\"+str(i)+\"_k\"+str(k))\n",
    "        L_acc[k, i] = get_acc_knn(dist_mat, y, [idx_train[i]], [idx_test[i]])[0]\n",
    "    \n",
    "means = np.mean(L_acc, axis=-1)\n",
    "print(np.mean(means), np.std(means))"
   ]
  },
  {
   "cell_type": "code",
   "execution_count": 14,
   "id": "c619583c",
   "metadata": {},
   "outputs": [
    {
     "data": {
      "text/plain": [
       "array([[0.65338645, 0.71314741, 0.70119522, 0.66533865, 0.65338645],\n",
       "       [0.65737052, 0.69322709, 0.68525896, 0.67729084, 0.66135458],\n",
       "       [0.65737052, 0.70916335, 0.6812749 , 0.67330677, 0.64940239]])"
      ]
     },
     "execution_count": 14,
     "metadata": {},
     "output_type": "execute_result"
    }
   ],
   "source": [
    "L_acc"
   ]
  },
  {
   "cell_type": "code",
   "execution_count": 15,
   "id": "4cf6d8f3",
   "metadata": {},
   "outputs": [
    {
     "data": {
      "text/plain": [
       "array([0.6560425 , 0.70517928, 0.68924303, 0.67197875, 0.65471448])"
      ]
     },
     "execution_count": 15,
     "metadata": {},
     "output_type": "execute_result"
    }
   ],
   "source": [
    "means = np.mean(L_acc, axis=0)\n",
    "means"
   ]
  },
  {
   "cell_type": "code",
   "execution_count": null,
   "id": "614e55eb",
   "metadata": {},
   "outputs": [],
   "source": []
  },
  {
   "cell_type": "markdown",
   "id": "5faa27b0",
   "metadata": {},
   "source": [
    "# Genre"
   ]
  },
  {
   "cell_type": "code",
   "execution_count": 16,
   "id": "e820711f",
   "metadata": {},
   "outputs": [],
   "source": [
    "X, y, w, idx_train, idx_test, idx_docs, n_words = get_goodreads(task=\"genre\")\n",
    "\n",
    "str_dataset = \"_goodreads_genre\"\n",
    "path = \"./results\"+str_dataset+\"/\"\n",
    "\n",
    "str_d = \"_d30\""
   ]
  },
  {
   "cell_type": "code",
   "execution_count": null,
   "id": "5d37b217",
   "metadata": {},
   "outputs": [],
   "source": []
  },
  {
   "cell_type": "markdown",
   "id": "268ddb0f",
   "metadata": {},
   "source": [
    "### WMD"
   ]
  },
  {
   "cell_type": "code",
   "execution_count": 17,
   "id": "0c190464",
   "metadata": {
    "scrolled": true
   },
   "outputs": [
    {
     "data": {
      "text/plain": [
       "0.5617529880478087"
      ]
     },
     "execution_count": 17,
     "metadata": {},
     "output_type": "execute_result"
    }
   ],
   "source": [
    "dist_mat = np.loadtxt(path + \"d_wmd_w2_goodreads_genre_k0\")\n",
    "\n",
    "L_acc = get_acc_knn(dist_mat, y, idx_train, idx_test)\n",
    "np.mean(L_acc)"
   ]
  },
  {
   "cell_type": "code",
   "execution_count": 18,
   "id": "bc92ae91",
   "metadata": {},
   "outputs": [
    {
     "data": {
      "text/plain": [
       "[0.5099601593625498,\n",
       " 0.5816733067729084,\n",
       " 0.5537848605577689,\n",
       " 0.5697211155378487,\n",
       " 0.5936254980079682]"
      ]
     },
     "execution_count": 18,
     "metadata": {},
     "output_type": "execute_result"
    }
   ],
   "source": [
    "L_acc"
   ]
  },
  {
   "cell_type": "markdown",
   "id": "35d39143",
   "metadata": {},
   "source": [
    "### WMD + SW"
   ]
  },
  {
   "cell_type": "code",
   "execution_count": 19,
   "id": "874cfd68",
   "metadata": {},
   "outputs": [],
   "source": [
    "str_loss = \"_sw\"\n",
    "str_projs = \"_projs500\""
   ]
  },
  {
   "cell_type": "code",
   "execution_count": 20,
   "id": "b54dd5b5",
   "metadata": {
    "scrolled": true
   },
   "outputs": [
    {
     "name": "stdout",
     "output_type": "stream",
     "text": [
      "0.500132802124834 0.012090100054970536\n"
     ]
    }
   ],
   "source": [
    "L_sw = []\n",
    "\n",
    "for k in range(3):\n",
    "    d_sw = np.loadtxt(path + \"d_wmd\"+str_loss+str_dataset+str_projs+\"_k\"+str(k))\n",
    "    L_acc = get_acc_knn(d_sw, y, idx_train, idx_test)\n",
    "    L_sw.append(L_acc)\n",
    "\n",
    "L_acc = np.array(L_sw)\n",
    "means = np.mean(L_acc, axis=-1)\n",
    "print(np.mean(means), np.std(means))"
   ]
  },
  {
   "cell_type": "code",
   "execution_count": 21,
   "id": "f68f11ea",
   "metadata": {},
   "outputs": [
    {
     "data": {
      "text/plain": [
       "array([[0.46613546, 0.49800797, 0.47011952, 0.46215139, 0.52191235],\n",
       "       [0.46215139, 0.49800797, 0.49003984, 0.52191235, 0.5498008 ],\n",
       "       [0.49800797, 0.4940239 , 0.52191235, 0.50199203, 0.54581673]])"
      ]
     },
     "execution_count": 21,
     "metadata": {},
     "output_type": "execute_result"
    }
   ],
   "source": [
    "L_acc"
   ]
  },
  {
   "cell_type": "code",
   "execution_count": 22,
   "id": "436b8183",
   "metadata": {},
   "outputs": [
    {
     "data": {
      "text/plain": [
       "array([0.47543161, 0.49667995, 0.4940239 , 0.49535193, 0.53917663])"
      ]
     },
     "execution_count": 22,
     "metadata": {},
     "output_type": "execute_result"
    }
   ],
   "source": [
    "means = np.mean(L_acc, axis=0)\n",
    "means"
   ]
  },
  {
   "cell_type": "code",
   "execution_count": null,
   "id": "4fa2fb10",
   "metadata": {},
   "outputs": [],
   "source": []
  },
  {
   "cell_type": "markdown",
   "id": "067fe61f",
   "metadata": {},
   "source": [
    "### WCD + WMD"
   ]
  },
  {
   "cell_type": "code",
   "execution_count": 23,
   "id": "39917160",
   "metadata": {},
   "outputs": [],
   "source": [
    "str_loss = \"_w2\""
   ]
  },
  {
   "cell_type": "code",
   "execution_count": 24,
   "id": "6141501c",
   "metadata": {},
   "outputs": [
    {
     "name": "stdout",
     "output_type": "stream",
     "text": [
      "0.5681274900398405 0.01895677649939496\n"
     ]
    }
   ],
   "source": [
    "L_acc = []\n",
    "\n",
    "for i in range(len(idx_train)):\n",
    "    dist_mat = np.loadtxt(path + \"d_swmd_wcd\"+str_d+str_loss+str_dataset+\"_i\"+str(i)+\"_k0\")\n",
    "    L_acc += get_acc_knn(dist_mat, y, [idx_train[i]], [idx_test[i]])\n",
    "    \n",
    "print(np.mean(L_acc), np.std(L_acc))"
   ]
  },
  {
   "cell_type": "code",
   "execution_count": 25,
   "id": "9ac9e5e9",
   "metadata": {},
   "outputs": [
    {
     "data": {
      "text/plain": [
       "[0.5577689243027888,\n",
       " 0.545816733067729,\n",
       " 0.5737051792828686,\n",
       " 0.601593625498008,\n",
       " 0.5617529880478087]"
      ]
     },
     "execution_count": 25,
     "metadata": {},
     "output_type": "execute_result"
    }
   ],
   "source": [
    "L_acc"
   ]
  },
  {
   "cell_type": "code",
   "execution_count": null,
   "id": "ab2feb2a",
   "metadata": {},
   "outputs": [],
   "source": []
  },
  {
   "cell_type": "markdown",
   "id": "480c5737",
   "metadata": {},
   "source": [
    "### WCD + WMD + SW"
   ]
  },
  {
   "cell_type": "code",
   "execution_count": 26,
   "id": "496e1df8",
   "metadata": {},
   "outputs": [],
   "source": [
    "str_loss = \"_sw\"\n",
    "str_projs = \"_projs500\""
   ]
  },
  {
   "cell_type": "code",
   "execution_count": 27,
   "id": "0a4a5bdb",
   "metadata": {},
   "outputs": [
    {
     "name": "stdout",
     "output_type": "stream",
     "text": [
      "0.5702523240371845 0.006771606259751368\n"
     ]
    }
   ],
   "source": [
    "L_acc = np.zeros((3, len(idx_train)))\n",
    "\n",
    "for k in range(3):\n",
    "    for i in range(len(idx_train)):\n",
    "        dist_mat = np.loadtxt(path + \"d_swmd_wcd\"+str_d+str_loss+str_dataset+\n",
    "                              str_projs+\"_i\"+str(i)+\"_k\"+str(k))\n",
    "        L_acc[k, i] = get_acc_knn(dist_mat, y, [idx_train[i]], [idx_test[i]])[0]\n",
    "    \n",
    "means = np.mean(L_acc, axis=-1)\n",
    "print(np.mean(means), np.std(means))"
   ]
  },
  {
   "cell_type": "code",
   "execution_count": 28,
   "id": "d0d2b15d",
   "metadata": {},
   "outputs": [
    {
     "data": {
      "text/plain": [
       "array([[0.55378486, 0.54581673, 0.58964143, 0.57370518, 0.54183267],\n",
       "       [0.57370518, 0.5498008 , 0.59760956, 0.57768924, 0.58565737],\n",
       "       [0.58565737, 0.5498008 , 0.58565737, 0.57768924, 0.56573705]])"
      ]
     },
     "execution_count": 28,
     "metadata": {},
     "output_type": "execute_result"
    }
   ],
   "source": [
    "L_acc"
   ]
  },
  {
   "cell_type": "code",
   "execution_count": 29,
   "id": "b7c2554e",
   "metadata": {},
   "outputs": [
    {
     "data": {
      "text/plain": [
       "array([0.57104914, 0.54847278, 0.59096946, 0.57636122, 0.56440903])"
      ]
     },
     "execution_count": 29,
     "metadata": {},
     "output_type": "execute_result"
    }
   ],
   "source": [
    "means = np.mean(L_acc, axis=0)\n",
    "means"
   ]
  },
  {
   "cell_type": "code",
   "execution_count": null,
   "id": "f0e5ff4c",
   "metadata": {},
   "outputs": [],
   "source": []
  }
 ],
 "metadata": {
  "kernelspec": {
   "display_name": "Python 3 (ipykernel)",
   "language": "python",
   "name": "python3"
  },
  "language_info": {
   "codemirror_mode": {
    "name": "ipython",
    "version": 3
   },
   "file_extension": ".py",
   "mimetype": "text/x-python",
   "name": "python",
   "nbconvert_exporter": "python",
   "pygments_lexer": "ipython3",
   "version": "3.10.8"
  }
 },
 "nbformat": 4,
 "nbformat_minor": 5
}
