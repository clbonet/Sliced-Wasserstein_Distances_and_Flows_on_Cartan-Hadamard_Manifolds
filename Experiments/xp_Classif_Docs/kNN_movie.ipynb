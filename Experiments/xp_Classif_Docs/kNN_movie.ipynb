{
 "cells": [
  {
   "cell_type": "code",
   "execution_count": 1,
   "id": "ca02fec2",
   "metadata": {},
   "outputs": [],
   "source": [
    "import numpy as np\n",
    "\n",
    "from utils_knn import get_acc_knn\n",
    "from load_datasets import get_movies"
   ]
  },
  {
   "cell_type": "code",
   "execution_count": 2,
   "id": "d45da255",
   "metadata": {},
   "outputs": [],
   "source": [
    "X, y, w, idx_train, idx_test, idx_docs, n_words = get_movies()\n",
    "\n",
    "str_dataset = \"_movie\"\n",
    "path = \"./results\"+str_dataset+\"/\"\n",
    "\n",
    "str_d = \"_d30\""
   ]
  },
  {
   "cell_type": "markdown",
   "id": "25ce7638",
   "metadata": {},
   "source": [
    "### WMD"
   ]
  },
  {
   "cell_type": "code",
   "execution_count": 3,
   "id": "1a55837a",
   "metadata": {},
   "outputs": [
    {
     "data": {
      "text/plain": [
       "0.7444"
      ]
     },
     "execution_count": 3,
     "metadata": {},
     "output_type": "execute_result"
    }
   ],
   "source": [
    "dist_mat = np.loadtxt(path + \"d_wmd_w2_movie_k0\")\n",
    "\n",
    "L_acc = get_acc_knn(dist_mat, y, idx_train, idx_test)\n",
    "np.mean(L_acc)"
   ]
  },
  {
   "cell_type": "code",
   "execution_count": 4,
   "id": "3c83208c",
   "metadata": {},
   "outputs": [
    {
     "data": {
      "text/plain": [
       "[0.732, 0.724, 0.756, 0.752, 0.758]"
      ]
     },
     "execution_count": 4,
     "metadata": {},
     "output_type": "execute_result"
    }
   ],
   "source": [
    "L_acc"
   ]
  },
  {
   "cell_type": "markdown",
   "id": "24af1a05",
   "metadata": {},
   "source": [
    "### WMD + SW"
   ]
  },
  {
   "cell_type": "code",
   "execution_count": 5,
   "id": "7845047a",
   "metadata": {},
   "outputs": [],
   "source": [
    "str_loss = \"_sw\"\n",
    "str_projs = \"_projs500\""
   ]
  },
  {
   "cell_type": "code",
   "execution_count": 6,
   "id": "a9878f91",
   "metadata": {
    "scrolled": true
   },
   "outputs": [
    {
     "name": "stdout",
     "output_type": "stream",
     "text": [
      "0.6726666666666667 0.006861162842809939\n"
     ]
    }
   ],
   "source": [
    "L_sw = []\n",
    "\n",
    "for k in range(3):\n",
    "    d_sw = np.loadtxt(path + \"d_wmd\"+str_loss+str_dataset+str_projs+\"_k\"+str(k))\n",
    "    L_acc = get_acc_knn(d_sw, y, idx_train, idx_test)\n",
    "    L_sw.append(L_acc)\n",
    "\n",
    "L_acc = np.array(L_sw)\n",
    "means = np.mean(L_acc, axis=-1)\n",
    "print(np.mean(means), np.std(means))"
   ]
  },
  {
   "cell_type": "code",
   "execution_count": 7,
   "id": "a649c4d3",
   "metadata": {},
   "outputs": [
    {
     "data": {
      "text/plain": [
       "array([[0.664, 0.71 , 0.67 , 0.682, 0.68 ],\n",
       "       [0.662, 0.688, 0.656, 0.694, 0.662],\n",
       "       [0.644, 0.67 , 0.67 , 0.664, 0.674]])"
      ]
     },
     "execution_count": 7,
     "metadata": {},
     "output_type": "execute_result"
    }
   ],
   "source": [
    "L_acc"
   ]
  },
  {
   "cell_type": "code",
   "execution_count": 8,
   "id": "a2105082",
   "metadata": {},
   "outputs": [
    {
     "data": {
      "text/plain": [
       "array([0.65666667, 0.68933333, 0.66533333, 0.68      , 0.672     ])"
      ]
     },
     "execution_count": 8,
     "metadata": {},
     "output_type": "execute_result"
    }
   ],
   "source": [
    "means = np.mean(L_acc, axis=0)\n",
    "means"
   ]
  },
  {
   "cell_type": "code",
   "execution_count": null,
   "id": "697def3a",
   "metadata": {},
   "outputs": [],
   "source": []
  },
  {
   "cell_type": "markdown",
   "id": "31cd83ce",
   "metadata": {},
   "source": [
    "### WCD + WMD"
   ]
  },
  {
   "cell_type": "code",
   "execution_count": 9,
   "id": "b26a72c0",
   "metadata": {},
   "outputs": [],
   "source": [
    "str_loss = \"_w2\""
   ]
  },
  {
   "cell_type": "code",
   "execution_count": 10,
   "id": "755ca40b",
   "metadata": {},
   "outputs": [
    {
     "name": "stdout",
     "output_type": "stream",
     "text": [
      "0.7604000000000001 0.023268863315598402\n"
     ]
    }
   ],
   "source": [
    "L_acc = []\n",
    "\n",
    "for i in range(len(idx_train)):\n",
    "    dist_mat = np.loadtxt(path + \"d_swmd_wcd\"+str_d+str_loss+str_dataset+\"_i\"+str(i)+\"_k0\")\n",
    "    L_acc += get_acc_knn(dist_mat, y, [idx_train[i]], [idx_test[i]])\n",
    "    \n",
    "print(np.mean(L_acc), np.std(L_acc))"
   ]
  },
  {
   "cell_type": "code",
   "execution_count": 11,
   "id": "f97e8593",
   "metadata": {},
   "outputs": [
    {
     "data": {
      "text/plain": [
       "[0.736, 0.772, 0.734, 0.764, 0.796]"
      ]
     },
     "execution_count": 11,
     "metadata": {},
     "output_type": "execute_result"
    }
   ],
   "source": [
    "L_acc"
   ]
  },
  {
   "cell_type": "code",
   "execution_count": null,
   "id": "ce60b14e",
   "metadata": {},
   "outputs": [],
   "source": []
  },
  {
   "cell_type": "markdown",
   "id": "cf80d9b9",
   "metadata": {},
   "source": [
    "### WCD + WMD + SW"
   ]
  },
  {
   "cell_type": "code",
   "execution_count": 12,
   "id": "d5f097f3",
   "metadata": {},
   "outputs": [],
   "source": [
    "str_loss = \"_sw\"\n",
    "str_projs = \"_projs500\""
   ]
  },
  {
   "cell_type": "code",
   "execution_count": 13,
   "id": "af0e5d57",
   "metadata": {},
   "outputs": [
    {
     "name": "stdout",
     "output_type": "stream",
     "text": [
      "0.7654666666666667 0.0011469767022724046\n"
     ]
    }
   ],
   "source": [
    "L_acc = np.zeros((3, len(idx_train)))\n",
    "\n",
    "for k in range(3):\n",
    "    for i in range(len(idx_train)):\n",
    "        dist_mat = np.loadtxt(path + \"d_swmd_wcd\"+str_d+str_loss+str_dataset+\n",
    "                              str_projs+\"_i\"+str(i)+\"_k\"+str(k))\n",
    "        L_acc[k, i] = get_acc_knn(dist_mat, y, [idx_train[i]], [idx_test[i]])[0]\n",
    "    \n",
    "means = np.mean(L_acc, axis=-1)\n",
    "print(np.mean(means), np.std(means))"
   ]
  },
  {
   "cell_type": "code",
   "execution_count": 14,
   "id": "c619583c",
   "metadata": {},
   "outputs": [
    {
     "data": {
      "text/plain": [
       "array([[0.728, 0.784, 0.736, 0.778, 0.794],\n",
       "       [0.73 , 0.782, 0.752, 0.774, 0.796],\n",
       "       [0.728, 0.786, 0.736, 0.778, 0.8  ]])"
      ]
     },
     "execution_count": 14,
     "metadata": {},
     "output_type": "execute_result"
    }
   ],
   "source": [
    "L_acc"
   ]
  },
  {
   "cell_type": "code",
   "execution_count": 15,
   "id": "adf584b7",
   "metadata": {},
   "outputs": [
    {
     "data": {
      "text/plain": [
       "array([0.72866667, 0.784     , 0.74133333, 0.77666667, 0.79666667])"
      ]
     },
     "execution_count": 15,
     "metadata": {},
     "output_type": "execute_result"
    }
   ],
   "source": [
    "means = np.mean(L_acc, axis=0)\n",
    "means"
   ]
  },
  {
   "cell_type": "code",
   "execution_count": null,
   "id": "bbf1009a",
   "metadata": {},
   "outputs": [],
   "source": []
  }
 ],
 "metadata": {
  "kernelspec": {
   "display_name": "Python 3 (ipykernel)",
   "language": "python",
   "name": "python3"
  },
  "language_info": {
   "codemirror_mode": {
    "name": "ipython",
    "version": 3
   },
   "file_extension": ".py",
   "mimetype": "text/x-python",
   "name": "python",
   "nbconvert_exporter": "python",
   "pygments_lexer": "ipython3",
   "version": "3.10.8"
  }
 },
 "nbformat": 4,
 "nbformat_minor": 5
}
