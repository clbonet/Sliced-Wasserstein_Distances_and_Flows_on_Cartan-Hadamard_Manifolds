{
 "cells": [
  {
   "cell_type": "code",
   "execution_count": 1,
   "id": "ca02fec2",
   "metadata": {},
   "outputs": [],
   "source": [
    "import numpy as np\n",
    "\n",
    "from utils_knn import get_acc_knn\n",
    "from load_datasets import get_BBC"
   ]
  },
  {
   "cell_type": "code",
   "execution_count": 2,
   "id": "d45da255",
   "metadata": {},
   "outputs": [],
   "source": [
    "X, y, w, idx_train, idx_test, idx_docs, n_words = get_BBC()\n",
    "\n",
    "str_dataset = \"_BBC\"\n",
    "path = \"./results\"+str_dataset+\"/\"\n",
    "\n",
    "str_d = \"_d30\""
   ]
  },
  {
   "cell_type": "markdown",
   "id": "25ce7638",
   "metadata": {},
   "source": [
    "### WMD"
   ]
  },
  {
   "cell_type": "code",
   "execution_count": 3,
   "id": "1a55837a",
   "metadata": {},
   "outputs": [
    {
     "data": {
      "text/plain": [
       "0.9454545454545455"
      ]
     },
     "execution_count": 3,
     "metadata": {},
     "output_type": "execute_result"
    }
   ],
   "source": [
    "dist_mat = np.loadtxt(path + \"d_wmd_w2_BBC_k0\")\n",
    "\n",
    "L_acc = get_acc_knn(dist_mat, y, idx_train, idx_test)\n",
    "np.mean(L_acc)"
   ]
  },
  {
   "cell_type": "code",
   "execution_count": 4,
   "id": "3c83208c",
   "metadata": {},
   "outputs": [
    {
     "data": {
      "text/plain": [
       "[0.9454545454545454,\n",
       " 0.9636363636363636,\n",
       " 0.9545454545454546,\n",
       " 0.9181818181818182,\n",
       " 0.9454545454545454]"
      ]
     },
     "execution_count": 4,
     "metadata": {},
     "output_type": "execute_result"
    }
   ],
   "source": [
    "L_acc"
   ]
  },
  {
   "cell_type": "markdown",
   "id": "24af1a05",
   "metadata": {},
   "source": [
    "### WMD + SW"
   ]
  },
  {
   "cell_type": "code",
   "execution_count": 5,
   "id": "7845047a",
   "metadata": {},
   "outputs": [],
   "source": [
    "str_loss = \"_sw\"\n",
    "str_projs = \"_projs500\""
   ]
  },
  {
   "cell_type": "code",
   "execution_count": 6,
   "id": "a9878f91",
   "metadata": {
    "scrolled": true
   },
   "outputs": [
    {
     "name": "stdout",
     "output_type": "stream",
     "text": [
      "0.8942424242424242 0.008855538906789298\n"
     ]
    }
   ],
   "source": [
    "L_sw = []\n",
    "\n",
    "for k in range(3):\n",
    "    d_sw = np.loadtxt(path + \"d_wmd\"+str_loss+str_dataset+str_projs+\"_k\"+str(k))\n",
    "    L_acc = get_acc_knn(d_sw, y, idx_train, idx_test)\n",
    "    L_sw.append(L_acc)\n",
    "\n",
    "L_acc = np.array(L_sw)\n",
    "means = np.mean(L_acc, axis=-1)\n",
    "print(np.mean(means), np.std(means))"
   ]
  },
  {
   "cell_type": "code",
   "execution_count": 7,
   "id": "7f8c00e6",
   "metadata": {},
   "outputs": [
    {
     "data": {
      "text/plain": [
       "array([[0.88636364, 0.89545455, 0.87272727, 0.87727273, 0.89545455],\n",
       "       [0.90909091, 0.91818182, 0.90454545, 0.89090909, 0.90909091],\n",
       "       [0.89545455, 0.91363636, 0.9       , 0.86363636, 0.88181818]])"
      ]
     },
     "execution_count": 7,
     "metadata": {},
     "output_type": "execute_result"
    }
   ],
   "source": [
    "L_acc"
   ]
  },
  {
   "cell_type": "code",
   "execution_count": 8,
   "id": "a2105082",
   "metadata": {},
   "outputs": [
    {
     "data": {
      "text/plain": [
       "array([0.8969697 , 0.90909091, 0.89242424, 0.87727273, 0.89545455])"
      ]
     },
     "execution_count": 8,
     "metadata": {},
     "output_type": "execute_result"
    }
   ],
   "source": [
    "means = np.mean(L_acc, axis=0)\n",
    "means"
   ]
  },
  {
   "cell_type": "code",
   "execution_count": null,
   "id": "20c8c724",
   "metadata": {},
   "outputs": [],
   "source": []
  },
  {
   "cell_type": "markdown",
   "id": "31cd83ce",
   "metadata": {},
   "source": [
    "### WCD + WMD"
   ]
  },
  {
   "cell_type": "code",
   "execution_count": 9,
   "id": "b26a72c0",
   "metadata": {},
   "outputs": [],
   "source": [
    "str_loss = \"_w2\""
   ]
  },
  {
   "cell_type": "code",
   "execution_count": 10,
   "id": "755ca40b",
   "metadata": {},
   "outputs": [
    {
     "name": "stdout",
     "output_type": "stream",
     "text": [
      "0.9836363636363638 0.008430562268632459\n"
     ]
    }
   ],
   "source": [
    "L_acc = []\n",
    "\n",
    "for i in range(len(idx_train)):\n",
    "    dist_mat = np.loadtxt(path + \"d_swmd_wcd\"+str_d+str_loss+str_dataset+\"_i\"+str(i)+\"_k0\")\n",
    "    L_acc += get_acc_knn(dist_mat, y, [idx_train[i]], [idx_test[i]])\n",
    "    \n",
    "print(np.mean(L_acc), np.std(L_acc))"
   ]
  },
  {
   "cell_type": "code",
   "execution_count": 11,
   "id": "f97e8593",
   "metadata": {},
   "outputs": [
    {
     "data": {
      "text/plain": [
       "[0.990909090909091,\n",
       " 0.9954545454545455,\n",
       " 0.9772727272727273,\n",
       " 0.9818181818181818,\n",
       " 0.9727272727272728]"
      ]
     },
     "execution_count": 11,
     "metadata": {},
     "output_type": "execute_result"
    }
   ],
   "source": [
    "L_acc"
   ]
  },
  {
   "cell_type": "code",
   "execution_count": null,
   "id": "374a2bce",
   "metadata": {},
   "outputs": [],
   "source": []
  },
  {
   "cell_type": "markdown",
   "id": "cf80d9b9",
   "metadata": {},
   "source": [
    "### WCD + WMD + SW"
   ]
  },
  {
   "cell_type": "code",
   "execution_count": 12,
   "id": "d5f097f3",
   "metadata": {},
   "outputs": [],
   "source": [
    "str_loss = \"_sw\"\n",
    "str_projs = \"_projs500\""
   ]
  },
  {
   "cell_type": "code",
   "execution_count": 13,
   "id": "2ebfd22c",
   "metadata": {},
   "outputs": [
    {
     "name": "stdout",
     "output_type": "stream",
     "text": [
      "0.9757575757575757 0.0004285495643554599\n"
     ]
    }
   ],
   "source": [
    "L_acc = np.zeros((3, len(idx_train)))\n",
    "\n",
    "for k in range(3):\n",
    "    for i in range(len(idx_train)):\n",
    "        dist_mat = np.loadtxt(path + \"d_swmd_wcd\"+str_d+str_loss+str_dataset+\n",
    "                              str_projs+\"_i\"+str(i)+\"_k\"+str(k))\n",
    "        L_acc[k, i] = get_acc_knn(dist_mat, y, [idx_train[i]], [idx_test[i]])[0]\n",
    "    \n",
    "means = np.mean(L_acc, axis=-1)\n",
    "print(np.mean(means), np.std(means))"
   ]
  },
  {
   "cell_type": "code",
   "execution_count": 14,
   "id": "9549442a",
   "metadata": {},
   "outputs": [
    {
     "data": {
      "text/plain": [
       "array([[0.97727273, 0.99090909, 0.96818182, 0.96818182, 0.97272727],\n",
       "       [0.97272727, 0.99090909, 0.96818182, 0.97727273, 0.97272727],\n",
       "       [0.97272727, 0.99090909, 0.96818182, 0.97727273, 0.96818182]])"
      ]
     },
     "execution_count": 14,
     "metadata": {},
     "output_type": "execute_result"
    }
   ],
   "source": [
    "L_acc"
   ]
  },
  {
   "cell_type": "code",
   "execution_count": 15,
   "id": "6c5af63f",
   "metadata": {},
   "outputs": [
    {
     "data": {
      "text/plain": [
       "array([0.97424242, 0.99090909, 0.96818182, 0.97424242, 0.97121212])"
      ]
     },
     "execution_count": 15,
     "metadata": {},
     "output_type": "execute_result"
    }
   ],
   "source": [
    "means = np.mean(L_acc, axis=0)\n",
    "means"
   ]
  },
  {
   "cell_type": "code",
   "execution_count": null,
   "id": "51c6e5b8",
   "metadata": {},
   "outputs": [],
   "source": []
  }
 ],
 "metadata": {
  "kernelspec": {
   "display_name": "Python 3 (ipykernel)",
   "language": "python",
   "name": "python3"
  },
  "language_info": {
   "codemirror_mode": {
    "name": "ipython",
    "version": 3
   },
   "file_extension": ".py",
   "mimetype": "text/x-python",
   "name": "python",
   "nbconvert_exporter": "python",
   "pygments_lexer": "ipython3",
   "version": "3.10.8"
  }
 },
 "nbformat": 4,
 "nbformat_minor": 5
}
